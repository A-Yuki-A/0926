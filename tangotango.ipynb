{
  "nbformat": 4,
  "nbformat_minor": 0,
  "metadata": {
    "colab": {
      "provenance": [],
      "authorship_tag": "ABX9TyO8thLKPZ+gDauUWBsU9yR+",
      "include_colab_link": true
    },
    "kernelspec": {
      "name": "python3",
      "display_name": "Python 3"
    },
    "language_info": {
      "name": "python"
    }
  },
  "cells": [
    {
      "cell_type": "markdown",
      "metadata": {
        "id": "view-in-github",
        "colab_type": "text"
      },
      "source": [
        "<a href=\"https://colab.research.google.com/github/A-Yuki-A/0926/blob/main/tangotango.ipynb\" target=\"_parent\"><img src=\"https://colab.research.google.com/assets/colab-badge.svg\" alt=\"Open In Colab\"/></a>"
      ]
    },
    {
      "cell_type": "code",
      "execution_count": 1,
      "metadata": {
        "colab": {
          "base_uri": "https://localhost:8080/"
        },
        "id": "-A1HX4jpYDY_",
        "outputId": "23a9a63a-d3a4-4624-ef59-7d4fa48fcb31"
      },
      "outputs": [
        {
          "output_type": "stream",
          "name": "stdout",
          "text": [
            "apple: a fruit\n",
            "banana: another fruit\n",
            "computer: an electronic device\n",
            "python: a programming language\n"
          ]
        }
      ],
      "source": [
        "# 単語帳を辞書として作成\n",
        "word_dict = {\n",
        "    \"apple\": \"a fruit\",\n",
        "    \"banana\": \"another fruit\",\n",
        "    \"computer\": \"an electronic device\",\n",
        "    \"python\": \"a programming language\"\n",
        "}\n",
        "\n",
        "# 単語帳を表示する関数\n",
        "def display_word_dict(dictionary):\n",
        "    for word, meaning in dictionary.items():\n",
        "        print(f\"{word}: {meaning}\")\n",
        "\n",
        "# 単語帳を表示\n",
        "display_word_dict(word_dict)\n"
      ]
    }
  ]
}